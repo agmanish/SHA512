{
  "nbformat": 4,
  "nbformat_minor": 0,
  "metadata": {
    "colab": {
      "name": "SHA512.ipynb",
      "provenance": []
    },
    "kernelspec": {
      "name": "python3",
      "display_name": "Python 3"
    },
    "language_info": {
      "name": "python"
    }
  },
  "cells": [
    {
      "cell_type": "markdown",
      "source": [
        "## **Manipulation Functions:**"
      ],
      "metadata": {
        "id": "QAFWuGO3DDsr"
      }
    },
    {
      "cell_type": "code",
      "source": [
        "def leftrotate_64(x, c):\n",
        "    \"\"\" Left rotate the number x by c bytes, for 64-bits numbers.\"\"\"\n",
        "    x &= 0xFFFFFFFFFFFFFFFF\n",
        "    return ((x << c) | (x >> (64 - c))) & 0xFFFFFFFFFFFFFFFF\n",
        "\n",
        "def rightrotate_64(x, c):\n",
        "    \"\"\" Right rotate the number x by c bytes, for 64-bits numbers.\"\"\"\n",
        "    x &= 0xFFFFFFFFFFFFFFFF\n",
        "    return ((x >> c) | (x << (64 - c))) & 0xFFFFFFFFFFFFFFFF\n",
        "\n",
        "def leftshift(x, c):\n",
        "    \"\"\" Left shift the number x by c bytes.\"\"\"\n",
        "    return x << c\n",
        "\n",
        "def rightshift(x, c):\n",
        "    \"\"\" Right shift the number x by c bytes.\"\"\"\n",
        "    return x >> c"
      ],
      "metadata": {
        "id": "t9eI6nCAR2rY"
      },
      "execution_count": 26,
      "outputs": []
    },
    {
      "cell_type": "markdown",
      "source": [
        "## **SHA512 Class Declaration**"
      ],
      "metadata": {
        "id": "046O-ET9DEka"
      }
    },
    {
      "cell_type": "code",
      "execution_count": 18,
      "metadata": {
        "id": "nDm189okQyRA"
      },
      "outputs": [],
      "source": [
        "class SHA512(object):\n",
        "    \n",
        "    def __init__(self):\n",
        "        self.name        = \"SHA512\"\n",
        "        self.byteorder   = 'big'\n",
        "        self.block_size  = 128\n",
        "        self.digest_size = 64\n",
        "\n",
        "        # Initialize hash values:\n",
        "        # (The second 64 bits of the fractional parts of the square roots of the first 8 primes 2..19)\n",
        "        h0 = 0x6a09e667f3bcc908\n",
        "        h1 = 0xbb67ae8584caa73b\n",
        "        h2 = 0x3c6ef372fe94f82b\n",
        "        h3 = 0xa54ff53a5f1d36f1\n",
        "        h4 = 0x510e527fade682d1\n",
        "        h5 = 0x9b05688c2b3e6c1f\n",
        "        h6 = 0x1f83d9abfb41bd6b\n",
        "        h7 = 0x5be0cd19137e2179\n",
        "\n",
        "        # Initialize array of round constants:\n",
        "        # (first 64 bits of the fractional parts of the cube roots of the first 80 primes 2..409):\n",
        "        self.k = [\n",
        "            0x428a2f98d728ae22, 0x7137449123ef65cd, 0xb5c0fbcfec4d3b2f, 0xe9b5dba58189dbbc, 0x3956c25bf348b538, \n",
        "            0x59f111f1b605d019, 0x923f82a4af194f9b, 0xab1c5ed5da6d8118, 0xd807aa98a3030242, 0x12835b0145706fbe, \n",
        "            0x243185be4ee4b28c, 0x550c7dc3d5ffb4e2, 0x72be5d74f27b896f, 0x80deb1fe3b1696b1, 0x9bdc06a725c71235, \n",
        "            0xc19bf174cf692694, 0xe49b69c19ef14ad2, 0xefbe4786384f25e3, 0x0fc19dc68b8cd5b5, 0x240ca1cc77ac9c65, \n",
        "            0x2de92c6f592b0275, 0x4a7484aa6ea6e483, 0x5cb0a9dcbd41fbd4, 0x76f988da831153b5, 0x983e5152ee66dfab, \n",
        "            0xa831c66d2db43210, 0xb00327c898fb213f, 0xbf597fc7beef0ee4, 0xc6e00bf33da88fc2, 0xd5a79147930aa725, \n",
        "            0x06ca6351e003826f, 0x142929670a0e6e70, 0x27b70a8546d22ffc, 0x2e1b21385c26c926, 0x4d2c6dfc5ac42aed, \n",
        "            0x53380d139d95b3df, 0x650a73548baf63de, 0x766a0abb3c77b2a8, 0x81c2c92e47edaee6, 0x92722c851482353b, \n",
        "            0xa2bfe8a14cf10364, 0xa81a664bbc423001, 0xc24b8b70d0f89791, 0xc76c51a30654be30, 0xd192e819d6ef5218, \n",
        "            0xd69906245565a910, 0xf40e35855771202a, 0x106aa07032bbd1b8, 0x19a4c116b8d2d0c8, 0x1e376c085141ab53, \n",
        "            0x2748774cdf8eeb99, 0x34b0bcb5e19b48a8, 0x391c0cb3c5c95a63, 0x4ed8aa4ae3418acb, 0x5b9cca4f7763e373, \n",
        "            0x682e6ff3d6b2b8a3, 0x748f82ee5defb2fc, 0x78a5636f43172f60, 0x84c87814a1f0ab72, 0x8cc702081a6439ec, \n",
        "            0x90befffa23631e28, 0xa4506cebde82bde9, 0xbef9a3f7b2c67915, 0xc67178f2e372532b, 0xca273eceea26619c, \n",
        "            0xd186b8c721c0c207, 0xeada7dd6cde0eb1e, 0xf57d4f7fee6ed178, 0x06f067aa72176fba, 0x0a637dc5a2c898a6, \n",
        "            0x113f9804bef90dae, 0x1b710b35131c471b, 0x28db77f523047d84, 0x32caab7b40c72493, 0x3c9ebe0a15c9bebc, \n",
        "            0x431d67c49c100d4c, 0x4cc5d4becb3e42b6, 0x597f299cfc657e2a, 0x5fcb6fab3ad6faec, 0x6c44198c4a475817\n",
        "        ]\n",
        "\n",
        "        # Store them\n",
        "        self.hash_pieces = [h0, h1, h2, h3, h4, h5, h6, h7]\n",
        "    \n",
        "    def update(self, arg):\n",
        "        h0, h1, h2, h3, h4, h5, h6, h7 = self.hash_pieces\n",
        "        # 1. Pre-processing\n",
        "        data = bytearray(arg)\n",
        "        orig_len_in_bits = (8 * len(data)) & 0xFFFFFFFFFFFFFFFFFFFFFFFFFFFFFFFF\n",
        "        # 1.a. Add a single '1' bit at the end of the input bits\n",
        "        data.append(0x80)\n",
        "        # 1.b. Padding with zeros as long as the input bits length ≡ 896 (mod 1024)\n",
        "        while len(data) % 128 != 112:\n",
        "            data.append(0)\n",
        "        # 1.c. append original length in bits mod (2 pow 128) to message\n",
        "        data += orig_len_in_bits.to_bytes(16, byteorder='big')\n",
        "        assert len(data) % 128 == 0, \"Error in padding\"\n",
        "        # 2. Computations\n",
        "        # Process the message in successive 1024-bit = 128-bytes chunks:\n",
        "        for offset in range(0, len(data), 128):\n",
        "            # 2.a. 1024-bits = 128-bytes chunks\n",
        "            chunks = data[offset : offset + 128]\n",
        "            w = [0 for i in range(80)]\n",
        "            # 2.b. Break chunk into sixteen 128-bit = 8-bytes words w[i], 0 ≤ i ≤ 15\n",
        "            for i in range(16):\n",
        "                w[i] = int.from_bytes(chunks[8*i : 8*i + 8], byteorder='big')\n",
        "            # 2.c.  Extend the first 16 words into the remaining 64\n",
        "            #       words w[16..79] of the message schedule array:\n",
        "            for i in range(16, 80):\n",
        "                s0 = (rightrotate_64(w[i-15], 1) ^ rightrotate_64(w[i-15], 8) ^ rightshift(w[i-15], 7)) & 0xFFFFFFFFFFFFFFFF\n",
        "                s1 = (rightrotate_64(w[i-2], 19) ^ rightrotate_64(w[i-2], 61) ^ rightshift(w[i-2], 6)) & 0xFFFFFFFFFFFFFFFF\n",
        "                w[i] = (w[i-16] + s0 + w[i-7] + s1) & 0xFFFFFFFFFFFFFFFF\n",
        "            # 2.d. Initialize hash value for this chunk\n",
        "            a, b, c, d, e, f, g, h = h0, h1, h2, h3, h4, h5, h6, h7\n",
        "            # 2.e. Main loop\n",
        "            for i in range(80):\n",
        "                S1 = (rightrotate_64(e, 14) ^ rightrotate_64(e, 18) ^ rightrotate_64(e, 41)) & 0xFFFFFFFFFFFFFFFF\n",
        "                ch = ((e & f) ^ ((~e) & g)) & 0xFFFFFFFFFFFFFFFF\n",
        "                temp1 = (h + S1 + ch + self.k[i] + w[i]) & 0xFFFFFFFFFFFFFFFF\n",
        "                S0 = (rightrotate_64(a, 28) ^ rightrotate_64(a, 34) ^ rightrotate_64(a, 39)) & 0xFFFFFFFFFFFFFFFF\n",
        "                maj = ((a & b) ^ (a & c) ^ (b & c)) & 0xFFFFFFFFFFFFFFFF\n",
        "                temp2 = (S0 + maj) & 0xFFFFFFFFFFFFFFFF\n",
        "\n",
        "                new_a = (temp1 + temp2) & 0xFFFFFFFFFFFFFFFF\n",
        "                new_e = (d + temp1) & 0xFFFFFFFFFFFFFFFF\n",
        "                # Rotate the 8 variables\n",
        "                a, b, c, d, e, f, g, h = new_a, a, b, c, new_e, e, f, g\n",
        "\n",
        "            # Add this chunk's hash to result so far:\n",
        "            h0 = (h0 + a) & 0xFFFFFFFFFFFFFFFF\n",
        "            h1 = (h1 + b) & 0xFFFFFFFFFFFFFFFF\n",
        "            h2 = (h2 + c) & 0xFFFFFFFFFFFFFFFF\n",
        "            h3 = (h3 + d) & 0xFFFFFFFFFFFFFFFF\n",
        "            h4 = (h4 + e) & 0xFFFFFFFFFFFFFFFF\n",
        "            h5 = (h5 + f) & 0xFFFFFFFFFFFFFFFF\n",
        "            h6 = (h6 + g) & 0xFFFFFFFFFFFFFFFF\n",
        "            h7 = (h7 + h) & 0xFFFFFFFFFFFFFFFF\n",
        "        # 3. Conclusion\n",
        "        self.hash_pieces = [h0, h1, h2, h3, h4, h5, h6, h7]\n",
        "\n",
        "    def digest(self):\n",
        "        # h0 append h1 append h2 append h3 append h4 append h5 append h6 append h7\n",
        "        return sum(leftshift(x, 64 * i) for i, x in enumerate(self.hash_pieces[::-1]))\n",
        "\n",
        "    def hexdigest(self):\n",
        "        \"\"\" Returns a string object of double length, containing only hexadecimal digits.\"\"\"\n",
        "        digest = self.digest()\n",
        "        raw = digest.to_bytes(self.digest_size, byteorder=self.byteorder)\n",
        "        format_str = '{:0' + str(2 * self.digest_size) + 'x}'\n",
        "        return format_str.format(int.from_bytes(raw, byteorder='big'))"
      ]
    },
    {
      "cell_type": "markdown",
      "source": [
        "## **Shortcut Function:**"
      ],
      "metadata": {
        "id": "HMn6lAC_DGgo"
      }
    },
    {
      "cell_type": "code",
      "source": [
        "def hash_SHA512(data):\n",
        "    \"\"\" Shortcut function to directly receive the hex digest from SHA512(data).\"\"\"\n",
        "    h = SHA512()\n",
        "    if isinstance(data, str):\n",
        "        data = bytes(data, encoding='utf8')\n",
        "    h.update(data)\n",
        "    return h.hexdigest()"
      ],
      "metadata": {
        "id": "9BQmCAJRQ8lL"
      },
      "execution_count": 20,
      "outputs": []
    },
    {
      "cell_type": "markdown",
      "source": [
        "## **Test Cases**"
      ],
      "metadata": {
        "id": "cvHjq5QwDHKa"
      }
    },
    {
      "cell_type": "code",
      "source": [
        "test_cases={\n",
        "    \"abc\": \"ddaf35a193617abacc417349ae20413112e6fa4e89a97ea20a9eeee64b55d39a2192992a274fc1a836ba3c23a3feebbd454d4423643ce80e2a9ac94fa54ca49f\",\n",
        "\n",
        "    \"\": \"cf83e1357eefb8bdf1542850d66d8007d620e4050b5715dc83f4a921d36ce9ce47d0d13c5d85f2b0ff8318d2877eec2f63b931bd47417a81a538327af927da3e\",\n",
        "\n",
        "    \"abcdbcdecdefdefgefghfghighijhijkijkljklmklmnlmnomnopnopq\": \n",
        "    \"204a8fc6dda82f0a0ced7beb8e08a41657c16ef468b228a8279be331a703c33596fd15c13b1b07f9aa1d3bea57789ca031ad85c7a71dd70354ec631238ca3445\",\n",
        "    \n",
        "    \"abcdefghbcdefghicdefghijdefghijkefghijklfghijklmghijklmnhijklmnoijklmnopjklmnopqklmnopqrlmnopqrsmnopqrstnopqrstu\":\n",
        "    \"8e959b75dae313da8cf4f72814fc143f8f7779c6eb9f7fa17299aeadb6889018501d289e4900f7e4331b99dec4b5433ac7d329eeb6dd26545e96e55b874be909\",\n",
        "    \n",
        "    }"
      ],
      "metadata": {
        "id": "0mvX4fYZRMS_"
      },
      "execution_count": 28,
      "outputs": []
    },
    {
      "cell_type": "code",
      "source": [
        "for i in test_cases:\n",
        "    g= hash_SHA512(i)\n",
        "    if g ==test_cases[i]:\n",
        "        print (\"test case \"+i+\" is sattisfied and the hash is:\\n\"+ g +\"\\n\")\n",
        "    else:\n",
        "        print (\"test case \"+i+\" is not sattisfied and the hash: \\n\"+ g + \"\\n does not match test hash \\n\" + test_cases[i]+ \"\\n\")"
      ],
      "metadata": {
        "colab": {
          "base_uri": "https://localhost:8080/"
        },
        "id": "pLruIOzGF0RJ",
        "outputId": "4dd03b12-91c7-48b3-86b8-52c07ed8f547"
      },
      "execution_count": 30,
      "outputs": [
        {
          "output_type": "stream",
          "name": "stdout",
          "text": [
            "test case abc is sattisfied and the hash is:\n",
            "ddaf35a193617abacc417349ae20413112e6fa4e89a97ea20a9eeee64b55d39a2192992a274fc1a836ba3c23a3feebbd454d4423643ce80e2a9ac94fa54ca49f\n",
            "\n",
            "test case  is sattisfied and the hash is:\n",
            "cf83e1357eefb8bdf1542850d66d8007d620e4050b5715dc83f4a921d36ce9ce47d0d13c5d85f2b0ff8318d2877eec2f63b931bd47417a81a538327af927da3e\n",
            "\n",
            "test case abcdbcdecdefdefgefghfghighijhijkijkljklmklmnlmnomnopnopq is sattisfied and the hash is:\n",
            "204a8fc6dda82f0a0ced7beb8e08a41657c16ef468b228a8279be331a703c33596fd15c13b1b07f9aa1d3bea57789ca031ad85c7a71dd70354ec631238ca3445\n",
            "\n",
            "test case abcdefghbcdefghicdefghijdefghijkefghijklfghijklmghijklmnhijklmnoijklmnopjklmnopqklmnopqrlmnopqrsmnopqrstnopqrstu is sattisfied and the hash is:\n",
            "8e959b75dae313da8cf4f72814fc143f8f7779c6eb9f7fa17299aeadb6889018501d289e4900f7e4331b99dec4b5433ac7d329eeb6dd26545e96e55b874be909\n",
            "\n"
          ]
        }
      ]
    },
    {
      "cell_type": "code",
      "source": [
        ""
      ],
      "metadata": {
        "id": "-RdqeQq4G0D2"
      },
      "execution_count": null,
      "outputs": []
    }
  ]
}